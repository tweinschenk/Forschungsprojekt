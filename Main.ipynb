{
 "cells": [
  {
   "cell_type": "markdown",
   "id": "be1d7405",
   "metadata": {},
   "source": [
    "# Step 1: Generate trajectories with random noise"
   ]
  },
  {
   "cell_type": "code",
   "execution_count": 1,
   "id": "6b9ca250",
   "metadata": {},
   "outputs": [],
   "source": [
    "from TrajectoryGenerator import TrajectoryGenerator\n",
    "\n",
    "generator = TrajectoryGenerator(seed=1618142069)\n",
    "generator.generate_trajectories(amount=2, \n",
    "                      initial_value_path=\"/home/opendihu/Forschungsprojekt-Clean/fibre_0_0D_0000350.py\", \n",
    "                      output_folder_path=\"/home/opendihu/Forschungsprojekt-Clean/trajectories\")\n",
    "\n",
    "test_trajectory_generator = TrajectoryGenerator(seed=116101115116)\n",
    "test_trajectory_generator.generate_trajectories(amount=2, \n",
    "                      initial_value_path=\"/home/opendihu/Forschungsprojekt-Clean/fibre_0_0D_0000350.py\", \n",
    "                      output_folder_path=\"/home/opendihu/Forschungsprojekt-Clean/testTrajectories\")"
   ]
  },
  {
   "cell_type": "markdown",
   "id": "f37cc8d3",
   "metadata": {},
   "source": [
    "# Step 2: Simulate propagation of generated trajectories for 6ms with opendihu"
   ]
  },
  {
   "cell_type": "code",
   "execution_count": 2,
   "id": "fcd74958",
   "metadata": {},
   "outputs": [],
   "source": [
    "from DataGenerator import DataGenerator\n",
    "trainings_data_generator = DataGenerator(trajectories_folder_path=\"/home/opendihu/Forschungsprojekt-Clean/trajectories\",\n",
    "                                                 opendihu_release_folder_path=\"/home/opendihu/opendihu/examples/electrophysiology/fibers/multiple_fibers/build_release\",\n",
    "                                                 data_output_folder_path=\"/home/opendihu/Forschungsprojekt-Clean/trainingData\",\n",
    "                                                 settings_multiple_fibers_path=\"/home/opendihu/Forschungsprojekt-Clean/settings_multiple_fibers.py\")\n",
    "trainings_data_generator.generate()\n",
    "\n",
    "\n",
    "\n",
    "test_data_generator = DataGenerator(trajectories_folder_path=\"/home/opendihu/Forschungsprojekt-Clean/testTrajectories\",\n",
    "                                                 opendihu_release_folder_path=\"/home/opendihu/opendihu/examples/electrophysiology/fibers/multiple_fibers/build_release\",\n",
    "                                                 data_output_folder_path=\"/home/opendihu/Forschungsprojekt-Clean/testData\",\n",
    "                                                 settings_multiple_fibers_path=\"/home/opendihu/Forschungsprojekt-Clean/settings_multiple_fibers.py\")\n",
    "test_data_generator.generate()"
   ]
  },
  {
   "cell_type": "markdown",
   "id": "c9ef94bd",
   "metadata": {},
   "source": [
    "# Step 3: Calculate the errors"
   ]
  },
  {
   "cell_type": "code",
   "execution_count": 3,
   "id": "eeabd5f8",
   "metadata": {},
   "outputs": [],
   "source": [
    "from ErrorCalculator import ErrorCalculator\n",
    "\n",
    "error_calculator = ErrorCalculator(trainings_data_folder_path=\"/home/opendihu/Forschungsprojekt-Clean/trainingData\")\n",
    "error_calculator.calculate_all_errors()\n",
    "\n",
    "\n",
    "test_error_calculator = ErrorCalculator(trainings_data_folder_path=\"/home/opendihu/Forschungsprojekt-Clean/testData\")\n",
    "test_error_calculator.calculate_all_errors()"
   ]
  },
  {
   "cell_type": "markdown",
   "id": "25cc7c44",
   "metadata": {},
   "source": [
    "# Step 4 Set the timesteps"
   ]
  },
  {
   "cell_type": "code",
   "execution_count": 4,
   "id": "090c98b0",
   "metadata": {},
   "outputs": [],
   "source": [
    "timesteps = 63"
   ]
  },
  {
   "cell_type": "markdown",
   "id": "6fb67ade",
   "metadata": {},
   "source": [
    "# Step 5.1: Define the model\n",
    "## more models are listed in the ModelStructures Notebook"
   ]
  },
  {
   "cell_type": "code",
   "execution_count": 11,
   "id": "c513e5d7",
   "metadata": {},
   "outputs": [
    {
     "name": "stdout",
     "output_type": "stream",
     "text": [
      "Model: \"sequential_1\"\n",
      "_________________________________________________________________\n",
      "Layer (type)                 Output Shape              Param #   \n",
      "=================================================================\n",
      "conv2d_8 (Conv2D)            (None, 63, 1191, 32)      1184      \n",
      "_________________________________________________________________\n",
      "conv2d_9 (Conv2D)            (None, 61, 1189, 32)      9248      \n",
      "_________________________________________________________________\n",
      "conv2d_10 (Conv2D)           (None, 59, 1187, 32)      9248      \n",
      "_________________________________________________________________\n",
      "conv2d_11 (Conv2D)           (None, 57, 1185, 32)      9248      \n",
      "_________________________________________________________________\n",
      "max_pooling2d_3 (MaxPooling2 (None, 28, 1185, 32)      0         \n",
      "_________________________________________________________________\n",
      "conv2d_12 (Conv2D)           (None, 28, 1185, 64)      18496     \n",
      "_________________________________________________________________\n",
      "conv2d_13 (Conv2D)           (None, 26, 1183, 64)      36928     \n",
      "_________________________________________________________________\n",
      "max_pooling2d_4 (MaxPooling2 (None, 13, 1183, 64)      0         \n",
      "_________________________________________________________________\n",
      "conv2d_14 (Conv2D)           (None, 13, 1183, 64)      36928     \n",
      "_________________________________________________________________\n",
      "conv2d_15 (Conv2D)           (None, 11, 1181, 64)      36928     \n",
      "_________________________________________________________________\n",
      "max_pooling2d_5 (MaxPooling2 (None, 2, 590, 64)        0         \n",
      "_________________________________________________________________\n",
      "flatten_1 (Flatten)          (None, 75520)             0         \n",
      "_________________________________________________________________\n",
      "dense_1 (Dense)              (None, 2)                 151042    \n",
      "=================================================================\n",
      "Total params: 309,250\n",
      "Trainable params: 309,250\n",
      "Non-trainable params: 0\n",
      "_________________________________________________________________\n"
     ]
    }
   ],
   "source": [
    "from tensorflow import keras\n",
    "from tensorflow.keras import layers, models\n",
    "from tensorflow.keras.layers import Conv2D, MaxPooling2D, Dropout, Flatten, Dense\n",
    "\n",
    "model = models.Sequential()\n",
    "\n",
    "# The first two layers with 32 filters of window size 3x3\n",
    "model.add(Conv2D(32, (3, 3), padding='same', activation='relu', input_shape=(timesteps, 1191, 4)))\n",
    "model.add(Conv2D(32, (3, 3), activation='relu'))\n",
    "model.add(Conv2D(32, (3, 3), activation='relu'))\n",
    "model.add(Conv2D(32, (3, 3), activation='relu'))\n",
    "model.add(MaxPooling2D(pool_size=(2, 1)))\n",
    "#model.add(Dropout(0.25))\n",
    "\n",
    "model.add(Conv2D(64, (3, 3), padding='same', activation='relu'))\n",
    "model.add(Conv2D(64, (3, 3), activation='relu'))\n",
    "model.add(MaxPooling2D(pool_size=(2, 1)))\n",
    "#model.add(Dropout(0.25))\n",
    "\n",
    "model.add(Conv2D(64, (3, 3), padding='same', activation='relu'))\n",
    "model.add(Conv2D(64, (3, 3), activation='relu'))\n",
    "model.add(MaxPooling2D(pool_size=(4, 2)))\n",
    "#model.add(Dropout(0.25))\n",
    "\n",
    "model.add(Flatten())\n",
    "#model.add(Dense(512, activation='relu'))\n",
    "#model.add(Dropout(0.5))\n",
    "model.add(Dense(2))\n",
    "\n",
    "model.summary()"
   ]
  },
  {
   "cell_type": "markdown",
   "id": "22e1b7b5",
   "metadata": {},
   "source": [
    "# Step 5.2: Compile the model"
   ]
  },
  {
   "cell_type": "code",
   "execution_count": 6,
   "id": "dc611d09",
   "metadata": {},
   "outputs": [],
   "source": [
    "from tensorflow.keras import losses\n",
    "model.compile(optimizer='adam', loss=losses.MSE)"
   ]
  },
  {
   "cell_type": "markdown",
   "id": "02e82905",
   "metadata": {},
   "source": [
    "# Alternative Step 5: Load a model"
   ]
  },
  {
   "cell_type": "code",
   "execution_count": 13,
   "id": "41edaa7e",
   "metadata": {},
   "outputs": [],
   "source": [
    "from tensorflow import keras\n",
    "model = keras.models.load_model('/home/opendihu/Forschungsprojekt-Clean/trainedCNNs/CNN0reduced.tf')"
   ]
  },
  {
   "cell_type": "markdown",
   "id": "26c1fade",
   "metadata": {},
   "source": [
    "# Step 6: Train model"
   ]
  },
  {
   "cell_type": "code",
   "execution_count": 7,
   "id": "e8348735",
   "metadata": {},
   "outputs": [
    {
     "name": "stdout",
     "output_type": "stream",
     "text": [
      "Train on 32 samples, validate on 8 samples\n",
      "Epoch 1/2\n",
      "32/32 [==============================] - 31s 975ms/sample - loss: 2.2156 - val_loss: 1773.5680\n",
      "Epoch 2/2\n",
      "32/32 [==============================] - 28s 865ms/sample - loss: 1756.7784 - val_loss: 1.8098\n"
     ]
    }
   ],
   "source": [
    "from DataLoader import DataLoader\n",
    "from Engine import ModelTrainer\n",
    "data_loader = DataLoader(trainings_data_folder_path=\"/home/opendihu/Forschungsprojekt-Clean/trainingData\", timesteps=timesteps) # optional: add model_checkpoint_folder_path and/or csv_logging_file_path to arguments\n",
    "model_trainer = ModelTrainer(model=model, data_loader=data_loader)\n",
    "model_trainer.train(epochs=2, seed=1623157854)"
   ]
  },
  {
   "cell_type": "markdown",
   "id": "0dbef689",
   "metadata": {},
   "source": [
    "# Step 7: (Optional) Save model"
   ]
  },
  {
   "cell_type": "code",
   "execution_count": 8,
   "id": "879e46ce",
   "metadata": {},
   "outputs": [],
   "source": [
    "model_trainer.save_model(\"/home/opendihu/Forschungsprojekt-Clean/model.tf\")"
   ]
  },
  {
   "cell_type": "markdown",
   "id": "b20328cc",
   "metadata": {},
   "source": [
    "# Step 8: (Optional) Evaluate model"
   ]
  },
  {
   "cell_type": "code",
   "execution_count": 14,
   "id": "735d9a2e",
   "metadata": {},
   "outputs": [
    {
     "name": "stdout",
     "output_type": "stream",
     "text": [
      "40/40 [==============================] - 9s 219ms/sample - loss: 1.6315\n"
     ]
    }
   ],
   "source": [
    "from DataLoader import DataLoader\n",
    "from Engine import ModelEvaluator\n",
    "\n",
    "test_data_loader = DataLoader(trainings_data_folder_path=\"/home/opendihu/Forschungsprojekt-Clean/testData\", timesteps=timesteps)\n",
    "model_evaluator = ModelEvaluator(model=model, data_loader=test_data_loader)\n",
    "model_evaluator.evaluate()"
   ]
  },
  {
   "cell_type": "markdown",
   "id": "cb1f99af",
   "metadata": {},
   "source": [
    "# Step 9: (Optional) Predict"
   ]
  },
  {
   "cell_type": "code",
   "execution_count": 10,
   "id": "5969f060",
   "metadata": {},
   "outputs": [
    {
     "name": "stdout",
     "output_type": "stream",
     "text": [
      "predicted error: [[0.00197187 0.03621945]]\n",
      "error: [5.25970195e-05 1.91340288e+00]\n"
     ]
    }
   ],
   "source": [
    "from DataLoader import DataLoader\n",
    "import numpy as np\n",
    "\n",
    "test_data_loader = DataLoader(trainings_data_folder_path=\"/home/opendihu/Forschungsprojekt-Clean/testData\", timesteps=timesteps)\n",
    "x, y = test_data_loader.get_data()\n",
    "\n",
    "sample_number = 0\n",
    "\n",
    "predicted_log_error = model.predict(np.array([x[sample_number]]))\n",
    "predicted_error = np.power(10, predicted_log_error)\n",
    "\n",
    "log_error = y[sample_number]\n",
    "error = np.power(10, log_error)\n",
    "\n",
    "print(\"predicted error:\", predicted_error)\n",
    "print(\"error:\", error)"
   ]
  },
  {
   "cell_type": "code",
   "execution_count": null,
   "id": "c720ab76",
   "metadata": {},
   "outputs": [],
   "source": []
  }
 ],
 "metadata": {
  "kernelspec": {
   "display_name": "Python 3",
   "language": "python",
   "name": "python3"
  },
  "language_info": {
   "codemirror_mode": {
    "name": "ipython",
    "version": 3
   },
   "file_extension": ".py",
   "mimetype": "text/x-python",
   "name": "python",
   "nbconvert_exporter": "python",
   "pygments_lexer": "ipython3",
   "version": "3.6.9"
  }
 },
 "nbformat": 4,
 "nbformat_minor": 5
}
